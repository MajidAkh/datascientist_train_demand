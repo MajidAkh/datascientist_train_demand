{
 "cells": [
  {
   "cell_type": "code",
   "execution_count": 48,
   "metadata": {},
   "outputs": [],
   "source": [
    "import numpy as np\n",
    "import pandas as pd\n",
    "import xgboost as xgb\n",
    "\n",
    "import bisect\n",
    "import functools as ft\n",
    "import logging\n",
    "import random\n",
    "import typing as t\n",
    "import seaborn as sns \n",
    "import matplotlib.pyplot as plt\n",
    "import sklearn.model_selection\n",
    "import sklearn.metrics\n",
    "import math\n",
    "import datetime\n",
    "from ignite.contrib.metrics.regression import MeanAbsoluteRelativeError"
   ]
  },
  {
   "cell_type": "code",
   "execution_count": 2,
   "metadata": {},
   "outputs": [],
   "source": [
    "data= pd.read_csv(\"data/train\")"
   ]
  },
  {
   "cell_type": "code",
   "execution_count": 3,
   "metadata": {},
   "outputs": [
    {
     "data": {
      "text/plain": [
       "Index(['dataset_type', 'demand', 'departure_date',\n",
       "       'destination_current_public_holiday',\n",
       "       'destination_current_school_holiday',\n",
       "       'destination_days_to_next_public_holiday',\n",
       "       'destination_days_to_next_school_holiday', 'destination_station_name',\n",
       "       'od_destination_time', 'od_number_of_similar_12_hours',\n",
       "       'od_number_of_similar_2_hours', 'od_number_of_similar_4_hours',\n",
       "       'od_origin_month', 'od_origin_time', 'od_origin_week',\n",
       "       'od_origin_weekday', 'od_origin_year', 'od_travel_time_minutes',\n",
       "       'origin_current_public_holiday', 'origin_current_school_holiday',\n",
       "       'origin_days_to_next_public_holiday',\n",
       "       'origin_days_to_next_school_holiday', 'origin_station_name', 'price',\n",
       "       'sale_date', 'sale_day', 'sale_day_x', 'sale_month', 'sale_week',\n",
       "       'sale_weekday', 'sale_year'],\n",
       "      dtype='object')"
      ]
     },
     "execution_count": 3,
     "metadata": {},
     "output_type": "execute_result"
    }
   ],
   "source": [
    "data.columns"
   ]
  },
  {
   "cell_type": "code",
   "execution_count": 24,
   "metadata": {},
   "outputs": [
    {
     "data": {
      "text/html": [
       "<div>\n",
       "<style scoped>\n",
       "    .dataframe tbody tr th:only-of-type {\n",
       "        vertical-align: middle;\n",
       "    }\n",
       "\n",
       "    .dataframe tbody tr th {\n",
       "        vertical-align: top;\n",
       "    }\n",
       "\n",
       "    .dataframe thead th {\n",
       "        text-align: right;\n",
       "    }\n",
       "</style>\n",
       "<table border=\"1\" class=\"dataframe\">\n",
       "  <thead>\n",
       "    <tr style=\"text-align: right;\">\n",
       "      <th></th>\n",
       "      <th>dataset_type</th>\n",
       "      <th>demand</th>\n",
       "      <th>departure_date</th>\n",
       "      <th>destination_current_public_holiday</th>\n",
       "      <th>destination_current_school_holiday</th>\n",
       "      <th>destination_days_to_next_public_holiday</th>\n",
       "      <th>destination_days_to_next_school_holiday</th>\n",
       "      <th>destination_station_name</th>\n",
       "      <th>od_destination_time</th>\n",
       "      <th>od_number_of_similar_12_hours</th>\n",
       "      <th>...</th>\n",
       "      <th>sale_date</th>\n",
       "      <th>sale_day</th>\n",
       "      <th>sale_day_x</th>\n",
       "      <th>sale_month</th>\n",
       "      <th>sale_week</th>\n",
       "      <th>sale_weekday</th>\n",
       "      <th>sale_year</th>\n",
       "      <th>trip_id</th>\n",
       "      <th>trip_or_dest</th>\n",
       "      <th>tripday_idt</th>\n",
       "    </tr>\n",
       "  </thead>\n",
       "  <tbody>\n",
       "    <tr>\n",
       "      <th>0</th>\n",
       "      <td>training</td>\n",
       "      <td>1</td>\n",
       "      <td>2019-03-01</td>\n",
       "      <td>0</td>\n",
       "      <td>1</td>\n",
       "      <td>52</td>\n",
       "      <td>-13</td>\n",
       "      <td>ag</td>\n",
       "      <td>1088</td>\n",
       "      <td>5</td>\n",
       "      <td>...</td>\n",
       "      <td>2018-12-02</td>\n",
       "      <td>2</td>\n",
       "      <td>-89</td>\n",
       "      <td>12</td>\n",
       "      <td>6</td>\n",
       "      <td>6</td>\n",
       "      <td>2018</td>\n",
       "      <td>2019-03-01922cpeag</td>\n",
       "      <td>cpeag</td>\n",
       "      <td>2019-03-01cpeag</td>\n",
       "    </tr>\n",
       "    <tr>\n",
       "      <th>1</th>\n",
       "      <td>training</td>\n",
       "      <td>6</td>\n",
       "      <td>2019-03-01</td>\n",
       "      <td>0</td>\n",
       "      <td>1</td>\n",
       "      <td>52</td>\n",
       "      <td>-13</td>\n",
       "      <td>ag</td>\n",
       "      <td>1088</td>\n",
       "      <td>5</td>\n",
       "      <td>...</td>\n",
       "      <td>2018-12-03</td>\n",
       "      <td>3</td>\n",
       "      <td>-88</td>\n",
       "      <td>12</td>\n",
       "      <td>0</td>\n",
       "      <td>0</td>\n",
       "      <td>2018</td>\n",
       "      <td>2019-03-01922cpeag</td>\n",
       "      <td>cpeag</td>\n",
       "      <td>2019-03-01cpeag</td>\n",
       "    </tr>\n",
       "    <tr>\n",
       "      <th>2</th>\n",
       "      <td>training</td>\n",
       "      <td>5</td>\n",
       "      <td>2019-03-01</td>\n",
       "      <td>0</td>\n",
       "      <td>1</td>\n",
       "      <td>52</td>\n",
       "      <td>-13</td>\n",
       "      <td>ag</td>\n",
       "      <td>1088</td>\n",
       "      <td>5</td>\n",
       "      <td>...</td>\n",
       "      <td>2018-12-04</td>\n",
       "      <td>4</td>\n",
       "      <td>-87</td>\n",
       "      <td>12</td>\n",
       "      <td>1</td>\n",
       "      <td>1</td>\n",
       "      <td>2018</td>\n",
       "      <td>2019-03-01922cpeag</td>\n",
       "      <td>cpeag</td>\n",
       "      <td>2019-03-01cpeag</td>\n",
       "    </tr>\n",
       "    <tr>\n",
       "      <th>3</th>\n",
       "      <td>training</td>\n",
       "      <td>0</td>\n",
       "      <td>2019-03-01</td>\n",
       "      <td>0</td>\n",
       "      <td>1</td>\n",
       "      <td>52</td>\n",
       "      <td>-13</td>\n",
       "      <td>ag</td>\n",
       "      <td>1088</td>\n",
       "      <td>5</td>\n",
       "      <td>...</td>\n",
       "      <td>2018-12-05</td>\n",
       "      <td>5</td>\n",
       "      <td>-86</td>\n",
       "      <td>12</td>\n",
       "      <td>2</td>\n",
       "      <td>2</td>\n",
       "      <td>2018</td>\n",
       "      <td>2019-03-01922cpeag</td>\n",
       "      <td>cpeag</td>\n",
       "      <td>2019-03-01cpeag</td>\n",
       "    </tr>\n",
       "    <tr>\n",
       "      <th>4</th>\n",
       "      <td>training</td>\n",
       "      <td>0</td>\n",
       "      <td>2019-03-01</td>\n",
       "      <td>0</td>\n",
       "      <td>1</td>\n",
       "      <td>52</td>\n",
       "      <td>-13</td>\n",
       "      <td>ag</td>\n",
       "      <td>1088</td>\n",
       "      <td>5</td>\n",
       "      <td>...</td>\n",
       "      <td>2018-12-06</td>\n",
       "      <td>6</td>\n",
       "      <td>-85</td>\n",
       "      <td>12</td>\n",
       "      <td>3</td>\n",
       "      <td>3</td>\n",
       "      <td>2018</td>\n",
       "      <td>2019-03-01922cpeag</td>\n",
       "      <td>cpeag</td>\n",
       "      <td>2019-03-01cpeag</td>\n",
       "    </tr>\n",
       "  </tbody>\n",
       "</table>\n",
       "<p>5 rows × 34 columns</p>\n",
       "</div>"
      ],
      "text/plain": [
       "  dataset_type  demand departure_date  destination_current_public_holiday  \\\n",
       "0     training       1     2019-03-01                                   0   \n",
       "1     training       6     2019-03-01                                   0   \n",
       "2     training       5     2019-03-01                                   0   \n",
       "3     training       0     2019-03-01                                   0   \n",
       "4     training       0     2019-03-01                                   0   \n",
       "\n",
       "   destination_current_school_holiday  \\\n",
       "0                                   1   \n",
       "1                                   1   \n",
       "2                                   1   \n",
       "3                                   1   \n",
       "4                                   1   \n",
       "\n",
       "   destination_days_to_next_public_holiday  \\\n",
       "0                                       52   \n",
       "1                                       52   \n",
       "2                                       52   \n",
       "3                                       52   \n",
       "4                                       52   \n",
       "\n",
       "   destination_days_to_next_school_holiday destination_station_name  \\\n",
       "0                                      -13                       ag   \n",
       "1                                      -13                       ag   \n",
       "2                                      -13                       ag   \n",
       "3                                      -13                       ag   \n",
       "4                                      -13                       ag   \n",
       "\n",
       "   od_destination_time  od_number_of_similar_12_hours  ...   sale_date  \\\n",
       "0                 1088                              5  ...  2018-12-02   \n",
       "1                 1088                              5  ...  2018-12-03   \n",
       "2                 1088                              5  ...  2018-12-04   \n",
       "3                 1088                              5  ...  2018-12-05   \n",
       "4                 1088                              5  ...  2018-12-06   \n",
       "\n",
       "   sale_day  sale_day_x  sale_month  sale_week  sale_weekday  sale_year  \\\n",
       "0         2         -89          12          6             6       2018   \n",
       "1         3         -88          12          0             0       2018   \n",
       "2         4         -87          12          1             1       2018   \n",
       "3         5         -86          12          2             2       2018   \n",
       "4         6         -85          12          3             3       2018   \n",
       "\n",
       "              trip_id  trip_or_dest      tripday_idt  \n",
       "0  2019-03-01922cpeag         cpeag  2019-03-01cpeag  \n",
       "1  2019-03-01922cpeag         cpeag  2019-03-01cpeag  \n",
       "2  2019-03-01922cpeag         cpeag  2019-03-01cpeag  \n",
       "3  2019-03-01922cpeag         cpeag  2019-03-01cpeag  \n",
       "4  2019-03-01922cpeag         cpeag  2019-03-01cpeag  \n",
       "\n",
       "[5 rows x 34 columns]"
      ]
     },
     "execution_count": 24,
     "metadata": {},
     "output_type": "execute_result"
    }
   ],
   "source": [
    "data.head()"
   ]
  },
  {
   "cell_type": "markdown",
   "metadata": {},
   "source": [
    "## Data Analysis"
   ]
  },
  {
   "cell_type": "code",
   "execution_count": 47,
   "metadata": {},
   "outputs": [
    {
     "data": {
      "text/html": [
       "<div>\n",
       "<style scoped>\n",
       "    .dataframe tbody tr th:only-of-type {\n",
       "        vertical-align: middle;\n",
       "    }\n",
       "\n",
       "    .dataframe tbody tr th {\n",
       "        vertical-align: top;\n",
       "    }\n",
       "\n",
       "    .dataframe thead th {\n",
       "        text-align: right;\n",
       "    }\n",
       "</style>\n",
       "<table border=\"1\" class=\"dataframe\">\n",
       "  <thead>\n",
       "    <tr style=\"text-align: right;\">\n",
       "      <th></th>\n",
       "      <th>demand</th>\n",
       "      <th>destination_current_public_holiday</th>\n",
       "      <th>destination_current_school_holiday</th>\n",
       "      <th>destination_days_to_next_public_holiday</th>\n",
       "      <th>destination_days_to_next_school_holiday</th>\n",
       "      <th>od_destination_time</th>\n",
       "      <th>od_number_of_similar_12_hours</th>\n",
       "      <th>od_number_of_similar_2_hours</th>\n",
       "      <th>od_number_of_similar_4_hours</th>\n",
       "      <th>od_origin_month</th>\n",
       "      <th>...</th>\n",
       "      <th>origin_current_school_holiday</th>\n",
       "      <th>origin_days_to_next_public_holiday</th>\n",
       "      <th>origin_days_to_next_school_holiday</th>\n",
       "      <th>price</th>\n",
       "      <th>sale_day</th>\n",
       "      <th>sale_day_x</th>\n",
       "      <th>sale_month</th>\n",
       "      <th>sale_week</th>\n",
       "      <th>sale_weekday</th>\n",
       "      <th>sale_year</th>\n",
       "    </tr>\n",
       "  </thead>\n",
       "  <tbody>\n",
       "    <tr>\n",
       "      <th>count</th>\n",
       "      <td>632841.000000</td>\n",
       "      <td>632841.0</td>\n",
       "      <td>632841.000000</td>\n",
       "      <td>632841.000000</td>\n",
       "      <td>632841.000000</td>\n",
       "      <td>632841.000000</td>\n",
       "      <td>632841.000000</td>\n",
       "      <td>632841.00000</td>\n",
       "      <td>632841.000000</td>\n",
       "      <td>632841.000000</td>\n",
       "      <td>...</td>\n",
       "      <td>632841.000000</td>\n",
       "      <td>632841.000000</td>\n",
       "      <td>632841.000000</td>\n",
       "      <td>632841.000000</td>\n",
       "      <td>632841.000000</td>\n",
       "      <td>632841.000000</td>\n",
       "      <td>632841.000000</td>\n",
       "      <td>632841.000000</td>\n",
       "      <td>632841.000000</td>\n",
       "      <td>632841.000000</td>\n",
       "    </tr>\n",
       "    <tr>\n",
       "      <th>mean</th>\n",
       "      <td>3.000149</td>\n",
       "      <td>0.0</td>\n",
       "      <td>0.362070</td>\n",
       "      <td>33.468421</td>\n",
       "      <td>7.209680</td>\n",
       "      <td>917.638889</td>\n",
       "      <td>6.013457</td>\n",
       "      <td>1.42268</td>\n",
       "      <td>2.577630</td>\n",
       "      <td>6.841843</td>\n",
       "      <td>...</td>\n",
       "      <td>0.380696</td>\n",
       "      <td>33.468421</td>\n",
       "      <td>7.026528</td>\n",
       "      <td>24.369688</td>\n",
       "      <td>15.836412</td>\n",
       "      <td>-43.161835</td>\n",
       "      <td>6.331560</td>\n",
       "      <td>3.022827</td>\n",
       "      <td>3.022827</td>\n",
       "      <td>2019.442271</td>\n",
       "    </tr>\n",
       "    <tr>\n",
       "      <th>std</th>\n",
       "      <td>7.256572</td>\n",
       "      <td>0.0</td>\n",
       "      <td>0.480599</td>\n",
       "      <td>20.902826</td>\n",
       "      <td>28.727468</td>\n",
       "      <td>255.245208</td>\n",
       "      <td>2.383453</td>\n",
       "      <td>1.35439</td>\n",
       "      <td>1.413168</td>\n",
       "      <td>2.656572</td>\n",
       "      <td>...</td>\n",
       "      <td>0.485558</td>\n",
       "      <td>20.902826</td>\n",
       "      <td>28.681919</td>\n",
       "      <td>16.868624</td>\n",
       "      <td>8.785942</td>\n",
       "      <td>25.268251</td>\n",
       "      <td>2.828876</td>\n",
       "      <td>2.008861</td>\n",
       "      <td>2.008861</td>\n",
       "      <td>0.524664</td>\n",
       "    </tr>\n",
       "    <tr>\n",
       "      <th>min</th>\n",
       "      <td>0.000000</td>\n",
       "      <td>0.0</td>\n",
       "      <td>0.000000</td>\n",
       "      <td>0.000000</td>\n",
       "      <td>-58.000000</td>\n",
       "      <td>399.000000</td>\n",
       "      <td>-1.000000</td>\n",
       "      <td>-1.00000</td>\n",
       "      <td>-1.000000</td>\n",
       "      <td>2.000000</td>\n",
       "      <td>...</td>\n",
       "      <td>0.000000</td>\n",
       "      <td>0.000000</td>\n",
       "      <td>-58.000000</td>\n",
       "      <td>11.650000</td>\n",
       "      <td>1.000000</td>\n",
       "      <td>-89.000000</td>\n",
       "      <td>1.000000</td>\n",
       "      <td>0.000000</td>\n",
       "      <td>0.000000</td>\n",
       "      <td>2018.000000</td>\n",
       "    </tr>\n",
       "    <tr>\n",
       "      <th>25%</th>\n",
       "      <td>0.000000</td>\n",
       "      <td>0.0</td>\n",
       "      <td>0.000000</td>\n",
       "      <td>16.000000</td>\n",
       "      <td>-12.000000</td>\n",
       "      <td>698.000000</td>\n",
       "      <td>5.000000</td>\n",
       "      <td>0.00000</td>\n",
       "      <td>2.000000</td>\n",
       "      <td>5.000000</td>\n",
       "      <td>...</td>\n",
       "      <td>0.000000</td>\n",
       "      <td>16.000000</td>\n",
       "      <td>-12.000000</td>\n",
       "      <td>11.650000</td>\n",
       "      <td>8.000000</td>\n",
       "      <td>-65.000000</td>\n",
       "      <td>5.000000</td>\n",
       "      <td>1.000000</td>\n",
       "      <td>1.000000</td>\n",
       "      <td>2019.000000</td>\n",
       "    </tr>\n",
       "    <tr>\n",
       "      <th>50%</th>\n",
       "      <td>0.000000</td>\n",
       "      <td>0.0</td>\n",
       "      <td>0.000000</td>\n",
       "      <td>32.000000</td>\n",
       "      <td>11.000000</td>\n",
       "      <td>964.000000</td>\n",
       "      <td>6.000000</td>\n",
       "      <td>1.00000</td>\n",
       "      <td>2.000000</td>\n",
       "      <td>7.000000</td>\n",
       "      <td>...</td>\n",
       "      <td>0.000000</td>\n",
       "      <td>32.000000</td>\n",
       "      <td>11.000000</td>\n",
       "      <td>20.650000</td>\n",
       "      <td>16.000000</td>\n",
       "      <td>-42.000000</td>\n",
       "      <td>6.000000</td>\n",
       "      <td>3.000000</td>\n",
       "      <td>3.000000</td>\n",
       "      <td>2019.000000</td>\n",
       "    </tr>\n",
       "    <tr>\n",
       "      <th>75%</th>\n",
       "      <td>3.000000</td>\n",
       "      <td>0.0</td>\n",
       "      <td>1.000000</td>\n",
       "      <td>50.000000</td>\n",
       "      <td>31.000000</td>\n",
       "      <td>1088.000000</td>\n",
       "      <td>7.000000</td>\n",
       "      <td>2.00000</td>\n",
       "      <td>4.000000</td>\n",
       "      <td>9.000000</td>\n",
       "      <td>...</td>\n",
       "      <td>1.000000</td>\n",
       "      <td>50.000000</td>\n",
       "      <td>30.000000</td>\n",
       "      <td>29.650000</td>\n",
       "      <td>23.000000</td>\n",
       "      <td>-21.000000</td>\n",
       "      <td>8.000000</td>\n",
       "      <td>5.000000</td>\n",
       "      <td>5.000000</td>\n",
       "      <td>2020.000000</td>\n",
       "    </tr>\n",
       "    <tr>\n",
       "      <th>max</th>\n",
       "      <td>192.000000</td>\n",
       "      <td>0.0</td>\n",
       "      <td>1.000000</td>\n",
       "      <td>77.000000</td>\n",
       "      <td>74.000000</td>\n",
       "      <td>1370.000000</td>\n",
       "      <td>10.000000</td>\n",
       "      <td>4.00000</td>\n",
       "      <td>7.000000</td>\n",
       "      <td>11.000000</td>\n",
       "      <td>...</td>\n",
       "      <td>1.000000</td>\n",
       "      <td>77.000000</td>\n",
       "      <td>74.000000</td>\n",
       "      <td>116.650000</td>\n",
       "      <td>31.000000</td>\n",
       "      <td>-1.000000</td>\n",
       "      <td>12.000000</td>\n",
       "      <td>6.000000</td>\n",
       "      <td>6.000000</td>\n",
       "      <td>2020.000000</td>\n",
       "    </tr>\n",
       "  </tbody>\n",
       "</table>\n",
       "<p>8 rows × 26 columns</p>\n",
       "</div>"
      ],
      "text/plain": [
       "              demand  destination_current_public_holiday  \\\n",
       "count  632841.000000                            632841.0   \n",
       "mean        3.000149                                 0.0   \n",
       "std         7.256572                                 0.0   \n",
       "min         0.000000                                 0.0   \n",
       "25%         0.000000                                 0.0   \n",
       "50%         0.000000                                 0.0   \n",
       "75%         3.000000                                 0.0   \n",
       "max       192.000000                                 0.0   \n",
       "\n",
       "       destination_current_school_holiday  \\\n",
       "count                       632841.000000   \n",
       "mean                             0.362070   \n",
       "std                              0.480599   \n",
       "min                              0.000000   \n",
       "25%                              0.000000   \n",
       "50%                              0.000000   \n",
       "75%                              1.000000   \n",
       "max                              1.000000   \n",
       "\n",
       "       destination_days_to_next_public_holiday  \\\n",
       "count                            632841.000000   \n",
       "mean                                 33.468421   \n",
       "std                                  20.902826   \n",
       "min                                   0.000000   \n",
       "25%                                  16.000000   \n",
       "50%                                  32.000000   \n",
       "75%                                  50.000000   \n",
       "max                                  77.000000   \n",
       "\n",
       "       destination_days_to_next_school_holiday  od_destination_time  \\\n",
       "count                            632841.000000        632841.000000   \n",
       "mean                                  7.209680           917.638889   \n",
       "std                                  28.727468           255.245208   \n",
       "min                                 -58.000000           399.000000   \n",
       "25%                                 -12.000000           698.000000   \n",
       "50%                                  11.000000           964.000000   \n",
       "75%                                  31.000000          1088.000000   \n",
       "max                                  74.000000          1370.000000   \n",
       "\n",
       "       od_number_of_similar_12_hours  od_number_of_similar_2_hours  \\\n",
       "count                  632841.000000                  632841.00000   \n",
       "mean                        6.013457                       1.42268   \n",
       "std                         2.383453                       1.35439   \n",
       "min                        -1.000000                      -1.00000   \n",
       "25%                         5.000000                       0.00000   \n",
       "50%                         6.000000                       1.00000   \n",
       "75%                         7.000000                       2.00000   \n",
       "max                        10.000000                       4.00000   \n",
       "\n",
       "       od_number_of_similar_4_hours  od_origin_month  ...  \\\n",
       "count                 632841.000000    632841.000000  ...   \n",
       "mean                       2.577630         6.841843  ...   \n",
       "std                        1.413168         2.656572  ...   \n",
       "min                       -1.000000         2.000000  ...   \n",
       "25%                        2.000000         5.000000  ...   \n",
       "50%                        2.000000         7.000000  ...   \n",
       "75%                        4.000000         9.000000  ...   \n",
       "max                        7.000000        11.000000  ...   \n",
       "\n",
       "       origin_current_school_holiday  origin_days_to_next_public_holiday  \\\n",
       "count                  632841.000000                       632841.000000   \n",
       "mean                        0.380696                           33.468421   \n",
       "std                         0.485558                           20.902826   \n",
       "min                         0.000000                            0.000000   \n",
       "25%                         0.000000                           16.000000   \n",
       "50%                         0.000000                           32.000000   \n",
       "75%                         1.000000                           50.000000   \n",
       "max                         1.000000                           77.000000   \n",
       "\n",
       "       origin_days_to_next_school_holiday          price       sale_day  \\\n",
       "count                       632841.000000  632841.000000  632841.000000   \n",
       "mean                             7.026528      24.369688      15.836412   \n",
       "std                             28.681919      16.868624       8.785942   \n",
       "min                            -58.000000      11.650000       1.000000   \n",
       "25%                            -12.000000      11.650000       8.000000   \n",
       "50%                             11.000000      20.650000      16.000000   \n",
       "75%                             30.000000      29.650000      23.000000   \n",
       "max                             74.000000     116.650000      31.000000   \n",
       "\n",
       "          sale_day_x     sale_month      sale_week   sale_weekday  \\\n",
       "count  632841.000000  632841.000000  632841.000000  632841.000000   \n",
       "mean      -43.161835       6.331560       3.022827       3.022827   \n",
       "std        25.268251       2.828876       2.008861       2.008861   \n",
       "min       -89.000000       1.000000       0.000000       0.000000   \n",
       "25%       -65.000000       5.000000       1.000000       1.000000   \n",
       "50%       -42.000000       6.000000       3.000000       3.000000   \n",
       "75%       -21.000000       8.000000       5.000000       5.000000   \n",
       "max        -1.000000      12.000000       6.000000       6.000000   \n",
       "\n",
       "           sale_year  \n",
       "count  632841.000000  \n",
       "mean     2019.442271  \n",
       "std         0.524664  \n",
       "min      2018.000000  \n",
       "25%      2019.000000  \n",
       "50%      2019.000000  \n",
       "75%      2020.000000  \n",
       "max      2020.000000  \n",
       "\n",
       "[8 rows x 26 columns]"
      ]
     },
     "execution_count": 47,
     "metadata": {},
     "output_type": "execute_result"
    }
   ],
   "source": [
    "data.describe()"
   ]
  },
  {
   "cell_type": "markdown",
   "metadata": {},
   "source": [
    "We will look at the distributions of the different features in order to check that we have no outlier and manage the missing values if there are any."
   ]
  },
  {
   "cell_type": "markdown",
   "metadata": {},
   "source": [
    "### Price"
   ]
  },
  {
   "cell_type": "code",
   "execution_count": 36,
   "metadata": {},
   "outputs": [
    {
     "data": {
      "image/png": "[encoded data removed]",
      "text/plain": [
       "<Figure size 432x288 with 1 Axes>"
      ]
     },
     "metadata": {},
     "output_type": "display_data"
    }
   ],
   "source": [
    "ax=sns.boxplot(x=data['price'])"
   ]
  },
  {
   "cell_type": "code",
   "execution_count": 44,
   "metadata": {},
   "outputs": [
    {
     "data": {
      "text/plain": [
       "<AxesSubplot:>"
      ]
     },
     "execution_count": 44,
     "metadata": {},
     "output_type": "execute_result"
    },
    {
     "data": {
      "image/png": "[encoded data removed]",
      "text/plain": [
       "<Figure size 432x288 with 1 Axes>"
      ]
     },
     "metadata": {},
     "output_type": "display_data"
    }
   ],
   "source": [
    "data.price.hist(bins=20)"
   ]
  },
  {
   "cell_type": "markdown",
   "metadata": {},
   "source": [
    "### Demand"
   ]
  },
  {
   "cell_type": "code",
   "execution_count": 30,
   "metadata": {},
   "outputs": [
    {
     "data": {
      "image/png": "[encoded data removed]",
      "text/plain": [
       "<Figure size 432x288 with 1 Axes>"
      ]
     },
     "metadata": {},
     "output_type": "display_data"
    }
   ],
   "source": [
    "ax=sns.boxplot(x=data['demand'])"
   ]
  },
  {
   "cell_type": "code",
   "execution_count": 46,
   "metadata": {},
   "outputs": [
    {
     "data": {
      "text/plain": [
       "<AxesSubplot:>"
      ]
     },
     "execution_count": 46,
     "metadata": {},
     "output_type": "execute_result"
    },
    {
     "data": {
      "image/png": "[encoded data removed]",
      "text/plain": [
       "<Figure size 432x288 with 1 Axes>"
      ]
     },
     "metadata": {},
     "output_type": "display_data"
    }
   ],
   "source": [
    "data.demand.hist(bins=50)"
   ]
  },
  {
   "cell_type": "code",
   "execution_count": 58,
   "metadata": {},
   "outputs": [
    {
     "data": {
      "image/png": "[encoded data removed]",
      "text/plain": [
       "<Figure size 432x288 with 1 Axes>"
      ]
     },
     "metadata": {},
     "output_type": "display_data"
    }
   ],
   "source": [
    "ax=sns.boxplot(x=data['origin_days_to_next_public_holiday'])"
   ]
  },
  {
   "cell_type": "code",
   "execution_count": 76,
   "metadata": {},
   "outputs": [
    {
     "data": {
      "text/plain": [
       "<AxesSubplot:>"
      ]
     },
     "execution_count": 76,
     "metadata": {},
     "output_type": "execute_result"
    },
    {
     "data": {
      "image/png": "[encoded data removed]",
      "text/plain": [
       "<Figure size 432x288 with 1 Axes>"
      ]
     },
     "metadata": {},
     "output_type": "display_data"
    }
   ],
   "source": [
    "data.origin_days_to_next_public_holiday.hist(bins=[ 0, 10, 20, 30, 40, 50, 60, 70, 80])"
   ]
  },
  {
   "cell_type": "code",
   "execution_count": 99,
   "metadata": {},
   "outputs": [
    {
     "data": {
      "text/plain": [
       "<AxesSubplot:>"
      ]
     },
     "execution_count": 99,
     "metadata": {},
     "output_type": "execute_result"
    },
    {
     "data": {
      "image/png": "[encoded data removed]",
      "text/plain": [
       "<Figure size 432x288 with 1 Axes>"
      ]
     },
     "metadata": {},
     "output_type": "display_data"
    }
   ],
   "source": [
    "data.sale_month.hist()"
   ]
  },
  {
   "cell_type": "code",
   "execution_count": 100,
   "metadata": {},
   "outputs": [
    {
     "data": {
      "text/plain": [
       "<AxesSubplot:>"
      ]
     },
     "execution_count": 100,
     "metadata": {},
     "output_type": "execute_result"
    },
    {
     "data": {
      "image/png": "[encoded data removed]",
      "text/plain": [
       "<Figure size 432x288 with 1 Axes>"
      ]
     },
     "metadata": {},
     "output_type": "display_data"
    }
   ],
   "source": [
    "data.od_origin_month.hist()"
   ]
  },
  {
   "cell_type": "code",
   "execution_count": 103,
   "metadata": {},
   "outputs": [
    {
     "data": {
      "text/plain": [
       "<AxesSubplot:>"
      ]
     },
     "execution_count": 103,
     "metadata": {},
     "output_type": "execute_result"
    },
    {
     "data": {
      "image/png": "[encoded data removed]",
      "text/plain": [
       "<Figure size 432x288 with 1 Axes>"
      ]
     },
     "metadata": {},
     "output_type": "display_data"
    }
   ],
   "source": [
    "data.boxplot(column=['sale_month','od_origin_month'])"
   ]
  },
  {
   "cell_type": "code",
   "execution_count": 119,
   "metadata": {},
   "outputs": [
    {
     "data": {
      "text/plain": [
       "44"
      ]
     },
     "execution_count": 119,
     "metadata": {},
     "output_type": "execute_result"
    }
   ],
   "source": [
    "len(data.od_origin_week.unique())"
   ]
  },
  {
   "cell_type": "code",
   "execution_count": 131,
   "metadata": {},
   "outputs": [
    {
     "data": {
      "text/plain": [
       "array([ 9, 10, 11, 12, 13, 14, 15, 16, 17, 18, 19, 20, 21, 22, 23, 24, 25,\n",
       "       26, 27, 28, 29, 30, 31, 32, 33, 34, 35, 36, 37, 38, 39, 40, 41, 42,\n",
       "       43, 44, 45, 46, 47, 48,  5,  6,  7,  8])"
      ]
     },
     "execution_count": 131,
     "metadata": {},
     "output_type": "execute_result"
    }
   ],
   "source": [
    "data.od_origin_week.unique()"
   ]
  },
  {
   "cell_type": "markdown",
   "metadata": {},
   "source": [
    "We notice that we have no information on the trains leaving during the weeks"
   ]
  },
  {
   "cell_type": "code",
   "execution_count": 114,
   "metadata": {},
   "outputs": [],
   "source": [
    "# Add column od_origin_day\n",
    "data['od_origin_day'] = pd.DatetimeIndex(data['departure_date']).day"
   ]
  },
  {
   "cell_type": "code",
   "execution_count": 115,
   "metadata": {},
   "outputs": [],
   "source": [
    "#Just a test to check that the od_origin_week column is correct\n",
    "or_week= [\n",
    "            datetime.date(year, month, day).isocalendar()[1]\n",
    "            for year,month, day in zip(\n",
    "                data.od_origin_year,data.od_origin_month, data.od_origin_day\n",
    "            )\n",
    "        ]"
   ]
  },
  {
   "cell_type": "code",
   "execution_count": 108,
   "metadata": {},
   "outputs": [
    {
     "data": {
      "text/plain": [
       "<AxesSubplot:>"
      ]
     },
     "execution_count": 108,
     "metadata": {},
     "output_type": "execute_result"
    },
    {
     "data": {
      "image/png": "[encoded data removed]",
      "text/plain": [
       "<Figure size 432x288 with 1 Axes>"
      ]
     },
     "metadata": {},
     "output_type": "display_data"
    }
   ],
   "source": [
    "data.sale_week.hist(bins=52)"
   ]
  },
  {
   "cell_type": "code",
   "execution_count": 120,
   "metadata": {},
   "outputs": [
    {
     "data": {
      "text/plain": [
       "<AxesSubplot:>"
      ]
     },
     "execution_count": 120,
     "metadata": {},
     "output_type": "execute_result"
    },
    {
     "data": {
      "image/png": "[encoded data removed]",
      "text/plain": [
       "<Figure size 432x288 with 1 Axes>"
      ]
     },
     "metadata": {},
     "output_type": "display_data"
    }
   ],
   "source": [
    "data.od_origin_week.hist(bins=44)"
   ]
  },
  {
   "cell_type": "code",
   "execution_count": 121,
   "metadata": {},
   "outputs": [
    {
     "data": {
      "text/plain": [
       "origin_current_school_holiday\n",
       "0    AxesSubplot(0.125,0.125;0.775x0.755)\n",
       "1    AxesSubplot(0.125,0.125;0.775x0.755)\n",
       "Name: od_origin_week, dtype: object"
      ]
     },
     "execution_count": 121,
     "metadata": {},
     "output_type": "execute_result"
    },
    {
     "data": {
      "image/png": "[encoded data removed]",
      "text/plain": [
       "<Figure size 432x288 with 1 Axes>"
      ]
     },
     "metadata": {},
     "output_type": "display_data"
    }
   ],
   "source": [
    "data.groupby(\"origin_current_school_holiday\").od_origin_week.hist(bins=44, alpha=0.8)"
   ]
  },
  {
   "cell_type": "code",
   "execution_count": 122,
   "metadata": {},
   "outputs": [
    {
     "data": {
      "text/plain": [
       "origin_current_public_holiday\n",
       "0    AxesSubplot(0.125,0.125;0.775x0.755)\n",
       "1    AxesSubplot(0.125,0.125;0.775x0.755)\n",
       "Name: od_origin_week, dtype: object"
      ]
     },
     "execution_count": 122,
     "metadata": {},
     "output_type": "execute_result"
    },
    {
     "data": {
      "image/png": "[encoded data removed]",
      "text/plain": [
       "<Figure size 432x288 with 1 Axes>"
      ]
     },
     "metadata": {},
     "output_type": "display_data"
    }
   ],
   "source": [
    "data.groupby(\"origin_current_public_holiday\").od_origin_week.hist(bins=44)"
   ]
  },
  {
   "cell_type": "code",
   "execution_count": 130,
   "metadata": {},
   "outputs": [
    {
     "data": {
      "text/plain": [
       "origin_current_school_holiday\n",
       "0    AxesSubplot(0.125,0.125;0.775x0.755)\n",
       "1    AxesSubplot(0.125,0.125;0.775x0.755)\n",
       "Name: trip_or_dest, dtype: object"
      ]
     },
     "execution_count": 130,
     "metadata": {},
     "output_type": "execute_result"
    },
    {
     "data": {
      "image/png": "[encoded data removed]",
      "text/plain": [
       "<Figure size 432x288 with 1 Axes>"
      ]
     },
     "metadata": {},
     "output_type": "display_data"
    }
   ],
   "source": [
    "data.groupby(\"origin_current_school_holiday\").trip_or_dest.hist(bins=8,rwidth=0.8,alpha=0.5)"
   ]
  },
  {
   "cell_type": "code",
   "execution_count": null,
   "metadata": {},
   "outputs": [],
   "source": []
  },
  {
   "cell_type": "code",
   "execution_count": 87,
   "metadata": {},
   "outputs": [
    {
     "data": {
      "image/png": "[encoded data removed]",
      "text/plain": [
       "<Figure size 432x288 with 1 Axes>"
      ]
     },
     "metadata": {},
     "output_type": "display_data"
    }
   ],
   "source": [
    "ax=sns.boxplot(x=data[\"od_number_of_similar_2_hours\"])"
   ]
  },
  {
   "cell_type": "markdown",
   "metadata": {},
   "source": [
    "### Missing value :"
   ]
  },
  {
   "cell_type": "markdown",
   "metadata": {},
   "source": [
    "Removal of missing values (-1):"
   ]
  },
  {
   "cell_type": "code",
   "execution_count": 88,
   "metadata": {},
   "outputs": [
    {
     "data": {
      "text/plain": [
       "count    632841.00000\n",
       "mean          1.42268\n",
       "std           1.35439\n",
       "min          -1.00000\n",
       "25%           0.00000\n",
       "50%           1.00000\n",
       "75%           2.00000\n",
       "max           4.00000\n",
       "Name: od_number_of_similar_2_hours, dtype: float64"
      ]
     },
     "execution_count": 88,
     "metadata": {},
     "output_type": "execute_result"
    }
   ],
   "source": [
    "data.od_number_of_similar_2_hours.describe()"
   ]
  },
  {
   "cell_type": "code",
   "execution_count": 94,
   "metadata": {},
   "outputs": [
    {
     "data": {
      "text/html": [
       "<div>\n",
       "<style scoped>\n",
       "    .dataframe tbody tr th:only-of-type {\n",
       "        vertical-align: middle;\n",
       "    }\n",
       "\n",
       "    .dataframe tbody tr th {\n",
       "        vertical-align: top;\n",
       "    }\n",
       "\n",
       "    .dataframe thead th {\n",
       "        text-align: right;\n",
       "    }\n",
       "</style>\n",
       "<table border=\"1\" class=\"dataframe\">\n",
       "  <thead>\n",
       "    <tr style=\"text-align: right;\">\n",
       "      <th></th>\n",
       "      <th>dataset_type</th>\n",
       "      <th>demand</th>\n",
       "      <th>departure_date</th>\n",
       "      <th>destination_current_public_holiday</th>\n",
       "      <th>destination_current_school_holiday</th>\n",
       "      <th>destination_days_to_next_public_holiday</th>\n",
       "      <th>destination_days_to_next_school_holiday</th>\n",
       "      <th>destination_station_name</th>\n",
       "      <th>od_destination_time</th>\n",
       "      <th>od_number_of_similar_12_hours</th>\n",
       "      <th>...</th>\n",
       "      <th>sale_date</th>\n",
       "      <th>sale_day</th>\n",
       "      <th>sale_day_x</th>\n",
       "      <th>sale_month</th>\n",
       "      <th>sale_week</th>\n",
       "      <th>sale_weekday</th>\n",
       "      <th>sale_year</th>\n",
       "      <th>trip_id</th>\n",
       "      <th>trip_or_dest</th>\n",
       "      <th>tripday_idt</th>\n",
       "    </tr>\n",
       "  </thead>\n",
       "  <tbody>\n",
       "  </tbody>\n",
       "</table>\n",
       "<p>0 rows × 34 columns</p>\n",
       "</div>"
      ],
      "text/plain": [
       "Empty DataFrame\n",
       "Columns: [dataset_type, demand, departure_date, destination_current_public_holiday, destination_current_school_holiday, destination_days_to_next_public_holiday, destination_days_to_next_school_holiday, destination_station_name, od_destination_time, od_number_of_similar_12_hours, od_number_of_similar_2_hours, od_number_of_similar_4_hours, od_origin_month, od_origin_time, od_origin_week, od_origin_weekday, od_origin_year, od_travel_time_minutes, origin_current_public_holiday, origin_current_school_holiday, origin_days_to_next_public_holiday, origin_days_to_next_school_holiday, origin_station_name, price, sale_date, sale_day, sale_day_x, sale_month, sale_week, sale_weekday, sale_year, trip_id, trip_or_dest, tripday_idt]\n",
       "Index: []\n",
       "\n",
       "[0 rows x 34 columns]"
      ]
     },
     "execution_count": 94,
     "metadata": {},
     "output_type": "execute_result"
    }
   ],
   "source": [
    "data.loc[(data['od_number_of_similar_2_hours']<0)]"
   ]
  },
  {
   "cell_type": "code",
   "execution_count": 96,
   "metadata": {},
   "outputs": [
    {
     "data": {
      "text/html": [
       "<div>\n",
       "<style scoped>\n",
       "    .dataframe tbody tr th:only-of-type {\n",
       "        vertical-align: middle;\n",
       "    }\n",
       "\n",
       "    .dataframe tbody tr th {\n",
       "        vertical-align: top;\n",
       "    }\n",
       "\n",
       "    .dataframe thead th {\n",
       "        text-align: right;\n",
       "    }\n",
       "</style>\n",
       "<table border=\"1\" class=\"dataframe\">\n",
       "  <thead>\n",
       "    <tr style=\"text-align: right;\">\n",
       "      <th></th>\n",
       "      <th>dataset_type</th>\n",
       "      <th>demand</th>\n",
       "      <th>departure_date</th>\n",
       "      <th>destination_current_public_holiday</th>\n",
       "      <th>destination_current_school_holiday</th>\n",
       "      <th>destination_days_to_next_public_holiday</th>\n",
       "      <th>destination_days_to_next_school_holiday</th>\n",
       "      <th>destination_station_name</th>\n",
       "      <th>od_destination_time</th>\n",
       "      <th>od_number_of_similar_12_hours</th>\n",
       "      <th>...</th>\n",
       "      <th>sale_date</th>\n",
       "      <th>sale_day</th>\n",
       "      <th>sale_day_x</th>\n",
       "      <th>sale_month</th>\n",
       "      <th>sale_week</th>\n",
       "      <th>sale_weekday</th>\n",
       "      <th>sale_year</th>\n",
       "      <th>trip_id</th>\n",
       "      <th>trip_or_dest</th>\n",
       "      <th>tripday_idt</th>\n",
       "    </tr>\n",
       "  </thead>\n",
       "  <tbody>\n",
       "  </tbody>\n",
       "</table>\n",
       "<p>0 rows × 34 columns</p>\n",
       "</div>"
      ],
      "text/plain": [
       "Empty DataFrame\n",
       "Columns: [dataset_type, demand, departure_date, destination_current_public_holiday, destination_current_school_holiday, destination_days_to_next_public_holiday, destination_days_to_next_school_holiday, destination_station_name, od_destination_time, od_number_of_similar_12_hours, od_number_of_similar_2_hours, od_number_of_similar_4_hours, od_origin_month, od_origin_time, od_origin_week, od_origin_weekday, od_origin_year, od_travel_time_minutes, origin_current_public_holiday, origin_current_school_holiday, origin_days_to_next_public_holiday, origin_days_to_next_school_holiday, origin_station_name, price, sale_date, sale_day, sale_day_x, sale_month, sale_week, sale_weekday, sale_year, trip_id, trip_or_dest, tripday_idt]\n",
       "Index: []\n",
       "\n",
       "[0 rows x 34 columns]"
      ]
     },
     "execution_count": 96,
     "metadata": {},
     "output_type": "execute_result"
    }
   ],
   "source": [
    "data.loc[(data['od_number_of_similar_12_hours']<0)]"
   ]
  },
  {
   "cell_type": "code",
   "execution_count": 93,
   "metadata": {},
   "outputs": [],
   "source": [
    "data = data.drop(data[data.od_number_of_similar_2_hours < 0].index)"
   ]
  },
  {
   "cell_type": "code",
   "execution_count": 97,
   "metadata": {},
   "outputs": [
    {
     "data": {
      "image/png": "[encoded data removed]",
      "text/plain": [
       "<Figure size 432x288 with 1 Axes>"
      ]
     },
     "metadata": {},
     "output_type": "display_data"
    }
   ],
   "source": [
    "ax=sns.boxplot(x=data[\"od_number_of_similar_2_hours\"])"
   ]
  },
  {
   "cell_type": "code",
   "execution_count": 98,
   "metadata": {},
   "outputs": [
    {
     "data": {
      "image/png": "[encoded data removed]",
      "text/plain": [
       "<Figure size 432x288 with 1 Axes>"
      ]
     },
     "metadata": {},
     "output_type": "display_data"
    }
   ],
   "source": [
    "ax=sns.boxplot(x=data[\"od_number_of_similar_12_hours\"])"
   ]
  },
  {
   "cell_type": "markdown",
   "metadata": {},
   "source": [
    "## Correction of the Sale_week column"
   ]
  },
  {
   "cell_type": "markdown",
   "metadata": {},
   "source": [
    "The *sale_week* column is false and corresponds to the *sale_weekday* column."
   ]
  },
  {
   "cell_type": "code",
   "execution_count": 50,
   "metadata": {},
   "outputs": [],
   "source": [
    "sale_week= [\n",
    "            datetime.date(year, month, day).isocalendar()[1]\n",
    "            for year,month, day in zip(\n",
    "                data.sale_year,data.sale_month, data.sale_day\n",
    "            )\n",
    "        ]"
   ]
  },
  {
   "cell_type": "code",
   "execution_count": 52,
   "metadata": {},
   "outputs": [],
   "source": [
    "data[\"sale_week\"]=sale_week"
   ]
  },
  {
   "cell_type": "markdown",
   "metadata": {},
   "source": [
    "## Creation of new columns"
   ]
  },
  {
   "cell_type": "markdown",
   "metadata": {},
   "source": [
    "Creation of an id for each train from the date, time, origin and destination"
   ]
  },
  {
   "cell_type": "code",
   "execution_count": 54,
   "metadata": {},
   "outputs": [],
   "source": [
    "trip_id= [f\"{datetime}{time}{start}{end}\"\n",
    "          for datetime,time, start, end in zip(\n",
    "              data.departure_date,data.od_origin_time, data.origin_station_name, data.destination_station_name\n",
    "            )\n",
    "        ]"
   ]
  },
  {
   "cell_type": "code",
   "execution_count": 55,
   "metadata": {},
   "outputs": [],
   "source": [
    "tripday_id= [f\"{datetime}{start}{end}\"\n",
    "             for datetime, start, end in zip(\n",
    "                 data.departure_date, data.origin_station_name, data.destination_station_name\n",
    "             )\n",
    "        ]"
   ]
  },
  {
   "cell_type": "markdown",
   "metadata": {},
   "source": [
    "Creation of a variable describing the train journey (origin to destination)"
   ]
  },
  {
   "cell_type": "code",
   "execution_count": 56,
   "metadata": {},
   "outputs": [],
   "source": [
    "trip_or_dest= [ f\"{start}{end}\"\n",
    "               for start, end in zip(\n",
    "                   data.origin_station_name, data.destination_station_name\n",
    "               )\n",
    "        ]"
   ]
  },
  {
   "cell_type": "code",
   "execution_count": 9,
   "metadata": {},
   "outputs": [],
   "source": [
    "data=data.assign(trip_id=lambda data:trip_id)"
   ]
  },
  {
   "cell_type": "code",
   "execution_count": 10,
   "metadata": {},
   "outputs": [],
   "source": [
    "data=data.assign(trip_or_dest=lambda data:trip_or_dest)"
   ]
  },
  {
   "cell_type": "code",
   "execution_count": 11,
   "metadata": {},
   "outputs": [],
   "source": [
    "data=data.assign(tripday_idt=lambda data:tripday_id)"
   ]
  },
  {
   "cell_type": "code",
   "execution_count": 52,
   "metadata": {},
   "outputs": [
    {
     "data": {
      "text/plain": [
       "count     632841\n",
       "unique         8\n",
       "top        cgmbb\n",
       "freq      179872\n",
       "Name: trip_or_dest, dtype: object"
      ]
     },
     "execution_count": 52,
     "metadata": {},
     "output_type": "execute_result"
    }
   ],
   "source": [
    "data.trip_or_dest.describe()"
   ]
  },
  {
   "cell_type": "code",
   "execution_count": null,
   "metadata": {},
   "outputs": [],
   "source": []
  },
  {
   "cell_type": "code",
   "execution_count": null,
   "metadata": {},
   "outputs": [],
   "source": []
  }
 ],
 "metadata": {
  "kernelspec": {
   "display_name": "Python 3",
   "language": "python",
   "name": "python3"
  },
  "language_info": {
   "codemirror_mode": {
    "name": "ipython",
    "version": 3
   },
   "file_extension": ".py",
   "mimetype": "text/x-python",
   "name": "python",
   "nbconvert_exporter": "python",
   "pygments_lexer": "ipython3",
   "version": "3.8.5"
  }
 },
 "nbformat": 4,
 "nbformat_minor": 4
}
